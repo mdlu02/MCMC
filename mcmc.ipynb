{
 "cells": [
  {
   "cell_type": "code",
   "execution_count": 12,
   "metadata": {},
   "outputs": [],
   "source": [
    "## Imports\n",
    "\n",
    "import PyPDF2\n",
    "from numpy import zeros\n",
    "from os import listdir\n",
    "from os.path import join\n",
    "from tqdm import tqdm\n",
    "from math import exp, log\n",
    "from random import shuffle, uniform, sample, randint"
   ]
  },
  {
   "cell_type": "code",
   "execution_count": 2,
   "metadata": {},
   "outputs": [],
   "source": [
    "## Methods\n",
    "\n",
    "def clean_text(text, chars, header):\n",
    "    '''Filters an input text to only contain lowercase letters and the space \n",
    "    character.'''\n",
    "    text = text.lower()\n",
    "    if header:\n",
    "        text = ' '.join(text.split(':')[1:])\n",
    "    text = text.replace('\\n', ' ')\n",
    "    text = text.replace(' .', '.')\n",
    "    cleaned = filter(chars.__contains__, text)\n",
    "    return ''.join(cleaned) + ' '\n",
    "\n",
    "def get_text(path, char_dict, header=False):\n",
    "    '''Reads in and cleans the text from a .pdf or .txt file.'''\n",
    "    text_type = path[-3:]\n",
    "    if text_type == 'pdf':\n",
    "        doc = PyPDF2.PdfReader(path)\n",
    "        text = ''\n",
    "        for page in doc.pages:\n",
    "            text += clean_text(page.extract_text(), \\\n",
    "                               list(char_dict.keys()), header)\n",
    "    elif text_type == 'txt':\n",
    "        with open(path, 'r') as file:\n",
    "            text = clean_text(file.read(), list(char_dict.keys()), header)\n",
    "    else:\n",
    "        raise RuntimeError('Import file must be of type .pdf or .txt!')\n",
    "    return text\n",
    "\n",
    "def get_q(text, char_dict):\n",
    "    '''Builds Q and P from a given text and char_dict using the digram model.'''\n",
    "    char_len = len(list(char_dict.keys()))\n",
    "    q = zeros((char_len, char_len))\n",
    "    p = zeros((char_len))\n",
    "    p[char_dict[text[0]]] += 1\n",
    "    for i in range(1, len(text)):\n",
    "        q[char_dict[text[i - 1]]][char_dict[text[i]]] += 1\n",
    "        p[char_dict[text[i]]] += 1\n",
    "    for i in range(len(q)):\n",
    "        for j in range(len(q[i])):\n",
    "            q[i][j] = max(q[i][j], 1)\n",
    "        q[i] = q[i] / sum(q[i])\n",
    "    return q, p / len(text)\n",
    "\n",
    "def new_perm(permutation, permutations, var=0):\n",
    "    '''Computes a new random permutation. Allows for some random variance in the\n",
    "    number of changes made for the new permutations.'''\n",
    "    changes = permutations\n",
    "    if var != 0:\n",
    "        rand = randint(0, 100)\n",
    "        if rand >= 90:\n",
    "            changes = permutations + var\n",
    "        elif rand <= 10:\n",
    "            changes = permutations - var\n",
    "        else:\n",
    "            changes = permutations\n",
    "    for _ in range(changes):\n",
    "        ab = sample(range(0, len(permutation) - 1), 2)\n",
    "        a, b = ab[0], ab[1]\n",
    "        permutation = list(permutation)\n",
    "        permutation[a], permutation[b] = permutation[b], permutation[a]\n",
    "        new_permutation = ''.join(permutation)\n",
    "    return new_permutation\n",
    "\n",
    "def transition(perm, char_dict, encoded, display_amount=None):\n",
    "    '''Computes transition on a given text.'''\n",
    "    data = ''\n",
    "    display_amount = len(encoded) if display_amount == None else display_amount\n",
    "    for i in range(display_amount):\n",
    "        data += perm[char_dict[encoded[i]]]\n",
    "    return data\n",
    "\n",
    "def energy_func(perm1, perm2, char_dict, encoded, q, p):\n",
    "    '''Computes the energy delta on a permuted texts.'''\n",
    "    trans1 = transition(perm1, char_dict, encoded)\n",
    "    trans2 = transition(perm2, char_dict, encoded)\n",
    "    delta = log(p[char_dict[trans1[0]]]) - log(p[char_dict[trans2[0]]])\n",
    "    for j in range(1, len(encoded)):\n",
    "        delta -= log(q[char_dict[trans1[j-1]]][char_dict[trans1[j]]]) - \\\n",
    "                        log(q[char_dict[trans2[j-1]]][char_dict[trans2[j]]])\n",
    "    return delta"
   ]
  },
  {
   "cell_type": "code",
   "execution_count": 3,
   "metadata": {},
   "outputs": [
    {
     "name": "stdout",
     "output_type": "stream",
     "text": [
      "Building q and p...\n"
     ]
    },
    {
     "name": "stderr",
     "output_type": "stream",
     "text": [
      "100%|██████████| 12/12 [01:21<00:00,  6.81s/it]\n"
     ]
    }
   ],
   "source": [
    "## Get q and p\n",
    "char_dict = {x: i for i, x in enumerate(' abcdefghijklmnopqrstuvwxyz')}\n",
    "X0 = ''\n",
    "text_dir = './text_data'\n",
    "decode_dir = './decoded_text'\n",
    "print('Building q and p...')\n",
    "for filename in tqdm(listdir(text_dir)):\n",
    "    try:\n",
    "        X0 += get_text(join(text_dir, filename), char_dict)\n",
    "    except RuntimeError as e:\n",
    "        None\n",
    "q, p = get_q(X0, char_dict)"
   ]
  },
  {
   "cell_type": "code",
   "execution_count": 14,
   "metadata": {},
   "outputs": [
    {
     "name": "stdout",
     "output_type": "stream",
     "text": [
      "Running mcmc on encoded texts...\n"
     ]
    },
    {
     "name": "stderr",
     "output_type": "stream",
     "text": [
      "File::   0%|          | 0/3 [00:00<?, ?it/s]"
     ]
    },
    {
     "name": "stdout",
     "output_type": "stream",
     "text": [
      "File: student_219_text2.txt...\n",
      "File: student_20_text1.txt...\n",
      "0: bfkpxbgkpdipnfkpecbnofvrptfbhkpofbofbvd pnqzehkgprjgpihdqjgkckgpredqnpbjpnfkpzqg\n",
      "2: bfkoxbgkodionfkoecbnpfvrotfbhkopfbpfbvd onqzehkgorjgoihdqjgkckgoredqnobjonfkozqg\n",
      "3: bfko bgkodionfkoexbnpfvrotfbhkopfbpfbvdconqzehkgorjgoihdqjgkxkgoredqnobjonfkozqg\n",
      "7: bf okbg ohionf oexbnpfvrotfbd opfbpfbvhconqzed gorjgoidhqjg x gorehqnobjonf ozqg\n",
      "12: bl okbg ohionl oexbnplvroclbd oplbplbvhtonqzed gorjgoidhqjg x gorehqnobjonl ozqg\n",
      "16: wl oewg ohionl okxwnplvroclwd oplwplwvhtonqzkd gorjgoidhqjg x gorkhqnowjonl ozqg\n",
      "19: wl oewg ohronl ouxwnplvioclwd oplwplwvhtonqzud goijgordhqjg x goiuhqnowjonl ozqg\n",
      "22: wj oewg olronj ouxwnpjviocjwd opjwpjwvltonqzud goihgordlqhg x goiulqnowhonj ozqg\n",
      "23: wj oewg olronj ouxwnpjviocjwd opjwpjwvltonbzud goihgordlbhg x goiulbnowhonj ozbg\n",
      "24: wj oewg olronj ouxwnpjviocjwd opjwpjwvltonbsud goihgordlbhg x goiulbnowhonj osbg\n",
      "35: wj oewg olronj ouswnpjdiocjwv opjwpjwdltonbxuv goihgorvlbhg s goiulbnowhonj oxbg\n",
      "36: wj oewg ouronj olswnpjdiocjwv opjwpjwdukonbxlv goihgorvubhg s goilubnowhonj oxbg\n",
      "43: wl oewg ouroyl ojswypldioclwv oplwplwdukoybxjv goihgorvubhg s goijubyowhoyl oxbg\n",
      "44: wl oewg ouronl ojswnpldioclwv oplwplwdukonbajv goihgorvubhg s goijubnowhonl oabg\n",
      "47: wl oewg ouronl ojswnplciodlwv oplwplwcukonbajv goimgorvubmg s goijubnowmonl oabg\n",
      "53: wl oewg ouronl ofswnplciodlwv oplwplwcukonbafv goimgorvubmg s goifubnowmonl oabg\n",
      "56: wl oewg ouronl ovswnplciodlwf oplwplwcuhonbavf goimgorfubmg s goivubnowmonl oabg\n",
      "68: wl oewg ouronl ovfwnplcmodlws oplwplwcuhonbavs gomigorsubig f gomvubnowionl oabg\n",
      "71: lt oelg ouront ovflnptcmodtls optlptlcuhonbavs gomigorsubig f gomvubnoliont oabg\n",
      "82: ld oelg ourond ovflnpdcmotdls opdlpdlcuhonbavs gomigorsubig f gomvubnoliond oabg\n",
      "108: ld oflg obrond ovelnpdcmotdls opdlpdlcbhonuavs gomigorsbuig e gomvbunoliond oaug\n",
      "121: ld oflg obmond ovelnpdcrotdls opdlpdlcbhonkavs gorigomsbkig e gorvbknoliond oakg\n",
      "138: ld owlg osmond ovelnpdcrotdlb opdlpdlcshonkavb gorigombskig e gorvsknoliond oakg\n",
      "157: ld owlg osmond ovelncdproudlb ocdlcdlpshonkavb gorigombskig e gorvsknoliond oakg\n",
      "214: ld owlg osmond ovelncdyroudlb ocdlcdlyshonakvb gorigombsaig e gorvsanoliond okag\n",
      "227: ld owlg osmond ovelncdyroudlb ocdlcdlyshonakvb gorigombsaig e gorvsanoliond okag\n",
      "256: ld owlg osmond oyelnfdvroudlb ofdlfdlvshonakyb gorigombsaig e gorysanoliond okag\n",
      "422: ad owag osmond oyeanfdvroudab ofdafdavskonlhyb gorigombslig e goryslnoaiond ohlg\n",
      "463: ad owag ostond oyeanmdvroudab omdamdavskonlhyb gorigotbslig e goryslnoaiond ohlg\n",
      "491: ad owag ostond okeanmdvroudab omdamdavsyonlhkb gorigotbslig e gorkslnoaiond ohlg\n",
      "575: ae owag osdone oktanmevroueab omeameavsyonlhkb gorigodbslig t gorkslnoaione ohlg\n",
      "600: ae oyag osdone oktanmeproueab omeameapswonlhkb gorigodbslig t gorkslnoaione ohlg\n",
      "615: ae ofag osbone oktanmeprouead omeameapswonlhkd gorigobdslig t gorkslnoaione ohlg\n",
      "827: ae ofag osbone oktanmeprouead omeameapswonlhkd gorigobdslig t gorkslnoaione ohlg\n",
      "909: ae ofag osbone oktanmehrouead omeameahswonlpkd gorigobdslig t gorkslnoaione oplg\n",
      "1103: ae ofag osbone oktanmeprouead omeameapshonlwkd gorigobdslig t gorkslnoaione owlg\n"
     ]
    },
    {
     "name": "stderr",
     "output_type": "stream",
     "text": [
      "File::  33%|███▎      | 1/3 [00:06<00:12,  6.47s/it]\n"
     ]
    },
    {
     "ename": "KeyboardInterrupt",
     "evalue": "",
     "output_type": "error",
     "traceback": [
      "\u001b[0;31m---------------------------------------------------------------------------\u001b[0m",
      "\u001b[0;31mKeyboardInterrupt\u001b[0m                         Traceback (most recent call last)",
      "Cell \u001b[0;32mIn[14], line 34\u001b[0m\n\u001b[1;32m     32\u001b[0m \u001b[39mfor\u001b[39;00m i \u001b[39min\u001b[39;00m \u001b[39mrange\u001b[39m(max_epochs):\n\u001b[1;32m     33\u001b[0m     curr \u001b[39m=\u001b[39m new_perm(perm, permutations)\n\u001b[0;32m---> 34\u001b[0m     e_delta \u001b[39m=\u001b[39m energy_func(curr, perm, char_dict, encoded, q, p)\n\u001b[1;32m     35\u001b[0m     \u001b[39mif\u001b[39;00m e_delta \u001b[39m<\u001b[39m \u001b[39m0\u001b[39m \u001b[39mor\u001b[39;00m uniform(\u001b[39m0\u001b[39m, \u001b[39m1\u001b[39m) \u001b[39m<\u001b[39m exp((\u001b[39m-\u001b[39mbeta) \u001b[39m*\u001b[39m e_delta):\n\u001b[1;32m     36\u001b[0m         perm \u001b[39m=\u001b[39m curr\n",
      "Cell \u001b[0;32mIn[2], line 80\u001b[0m, in \u001b[0;36menergy_func\u001b[0;34m(perm1, perm2, char_dict, encoded, q, p)\u001b[0m\n\u001b[1;32m     77\u001b[0m delta \u001b[39m=\u001b[39m log(p[char_dict[trans1[\u001b[39m0\u001b[39m]]]) \u001b[39m-\u001b[39m log(p[char_dict[trans2[\u001b[39m0\u001b[39m]]])\n\u001b[1;32m     78\u001b[0m \u001b[39mfor\u001b[39;00m j \u001b[39min\u001b[39;00m \u001b[39mrange\u001b[39m(\u001b[39m1\u001b[39m, \u001b[39mlen\u001b[39m(encoded)):\n\u001b[1;32m     79\u001b[0m     delta \u001b[39m-\u001b[39m\u001b[39m=\u001b[39m log(q[char_dict[trans1[j\u001b[39m-\u001b[39m\u001b[39m1\u001b[39m]]][char_dict[trans1[j]]]) \u001b[39m-\u001b[39m \\\n\u001b[0;32m---> 80\u001b[0m                     log(q[char_dict[trans2[j\u001b[39m-\u001b[39;49m\u001b[39m1\u001b[39;49m]]][char_dict[trans2[j]]])\n\u001b[1;32m     81\u001b[0m \u001b[39mreturn\u001b[39;00m delta\n",
      "\u001b[0;31mKeyboardInterrupt\u001b[0m: "
     ]
    }
   ],
   "source": [
    "## Run\n",
    "\n",
    "chars = list(char_dict.keys())\n",
    "shuffle(chars)\n",
    "perm = ''.join(chars)\n",
    "\n",
    "# hyper parameters\n",
    "beta = 0.65 # tunable hyperparameter (best for all = 0.63)\n",
    "permutations = 2 # number of times text is permuted before scoring\n",
    "var = 0\n",
    "convergence_delta = 2000 # max number of worse iterations before stopping\n",
    "max_epochs = 15000 # maximum number of iterations to run MCMC\n",
    "\n",
    "# specific_text = None\n",
    "specific_text='student_20_text1.txt'\n",
    "# specific_text='student_219_text2.txt'\n",
    "# specific_text='student_102_text3.txt'\n",
    "\n",
    "verbose=True\n",
    "save = True\n",
    "\n",
    "print('Running mcmc on encoded texts...')\n",
    "encoded_dir = './encoded_text'\n",
    "for filename in tqdm(listdir(encoded_dir), desc='File:'):\n",
    "    print(f'File: {filename}...')\n",
    "    if specific_text != None and filename != specific_text:\n",
    "        continue\n",
    "    header = filename.split('.')[0]\n",
    "    try:\n",
    "        encoded = get_text(join(encoded_dir, filename), char_dict, True)\n",
    "        convergence_counter = 0\n",
    "        for i in range(max_epochs):\n",
    "            curr = new_perm(perm, permutations)\n",
    "            e_delta = energy_func(curr, perm, char_dict, encoded, q, p)\n",
    "            if e_delta < 0 or uniform(0, 1) < exp((-beta) * e_delta):\n",
    "                perm = curr\n",
    "                if verbose:\n",
    "                    print(f'{i}: ' + \\\n",
    "                            transition(perm, char_dict, encoded, 80))\n",
    "                convergence_counter = 0\n",
    "            else:\n",
    "                convergence_counter += 1\n",
    "                if convergence_counter >= convergence_delta:\n",
    "                    break\n",
    "        print(f'Permutation: {perm}')\n",
    "        print('Decoded text: \\n')\n",
    "        print(transition(perm, char_dict, encoded, 80))\n",
    "        # print('Enter any key to continue: ')\n",
    "        # _ = input()\n",
    "        ## Save\n",
    "        if save:\n",
    "            with open(join(decode_dir, f'{header}_decoded.txt'), 'w') as f:\n",
    "                f.write(transition(perm, char_dict, encoded))\n",
    "            print(f'Saved {header}_decoded.txt')\n",
    "    except RuntimeError as e:\n",
    "        None\n"
   ]
  },
  {
   "cell_type": "code",
   "execution_count": null,
   "metadata": {},
   "outputs": [],
   "source": []
  }
 ],
 "metadata": {
  "kernelspec": {
   "display_name": "tf-metal",
   "language": "python",
   "name": "python3"
  },
  "language_info": {
   "codemirror_mode": {
    "name": "ipython",
    "version": 3
   },
   "file_extension": ".py",
   "mimetype": "text/x-python",
   "name": "python",
   "nbconvert_exporter": "python",
   "pygments_lexer": "ipython3",
   "version": "3.8.15"
  },
  "orig_nbformat": 4,
  "vscode": {
   "interpreter": {
    "hash": "e3d3b945a728dc6b89ef1ea302609f59676baf23273cba4912ef2c41cf8db8fb"
   }
  }
 },
 "nbformat": 4,
 "nbformat_minor": 2
}
